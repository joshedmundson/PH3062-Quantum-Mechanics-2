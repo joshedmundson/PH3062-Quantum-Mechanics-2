{
 "cells": [
  {
   "cell_type": "markdown",
   "metadata": {},
   "source": [
    "Let \n",
    "$$\\mathbf{V} = \n",
    "\\begin{pmatrix}\n",
    "-2 & -2 & 4 \\\\\n",
    "-2 & 1 & 2 \\\\\n",
    "4 & 2 & 5 \n",
    "\\end{pmatrix}\n",
    "$$\n",
    "Be the matrix representation of a perturbation for a 3-degenerate subspace. What is a good basis for this subspace?"
   ]
  },
  {
   "cell_type": "code",
   "execution_count": 1,
   "metadata": {},
   "outputs": [],
   "source": [
    "import sympy as sym    # Import perhaps one of the greatest libraries of all time \n",
    "                       # Can install with 'pip import sympy' in the terminal/command line"
   ]
  },
  {
   "cell_type": "code",
   "execution_count": 18,
   "metadata": {},
   "outputs": [],
   "source": [
    "'''Step 1: Set up the matrix '''\n",
    "V = sym.Matrix([[-2,-2,4],[-2,1,2],[4,2,5]])"
   ]
  },
  {
   "cell_type": "code",
   "execution_count": 19,
   "metadata": {},
   "outputs": [
    {
     "data": {
      "text/plain": [
       "{7: 1, 2: 1, -5: 1}"
      ]
     },
     "execution_count": 19,
     "metadata": {},
     "output_type": "execute_result"
    }
   ],
   "source": [
    "'''Step 2: Find the eigenvalues'''\n",
    "V.eigenvals()   # We can do this simply by using the eigenvalues function from sympy \n",
    "                # Note the ouput {7:1, 2:1, -5:1} means 1 eigenvalue of 7, 1 egienvalue of 2 etc"
   ]
  },
  {
   "cell_type": "code",
   "execution_count": 45,
   "metadata": {},
   "outputs": [
    {
     "name": "stdout",
     "output_type": "stream",
     "text": [
      "{x: 2*z/5, y: z/5}\n",
      "{x: -y/2, z: 0}\n",
      "{x: -2*z, y: -z}\n",
      "Matrix([[0.400000000000000], [0.200000000000000], [1.00000000000000]])\n",
      "Matrix([[-0.500000000000000], [1.00000000000000], [0]])\n",
      "Matrix([[2], [1], [-1]])\n"
     ]
    }
   ],
   "source": [
    "'''Step 3: Find the eigenvectors - Method 1'''\n",
    "\n",
    "x,y,z = sym.symbols(\"x y z\")    # We define sympy symbol objects to let python know we want to use x,y,z\n",
    "                                # as algabreaic symbols instead of as code variables\n",
    "v = sym.Matrix([x,y,z])         # Here we define the vector we want to solve for with those symbols\n",
    "\n",
    "print(sym.solve((V - 7*sym.eye(3))*v, [x,y,z]))     # This is simply Vv = lambda v, our original eigenvalue/vector equation\n",
    "                                                    # sym.solve() will solve what ever you put into it by assuming it is \n",
    "                                                    # equal to 0. We pass in [x,y,z] to let sympy know what variables to solve for\n",
    "                                \n",
    "print(sym.solve((V - 2*sym.eye(3))*v, [x,y,z]))     # Same story just swapping out the eigenvalue\n",
    "\n",
    "print(sym.solve((V + 5*sym.eye(3))*v, [x,y,z]))     # Same story just swapping out the eigenvalue\n",
    "\n",
    "# Each of these eigenvalues has a corresponding set of vectors. We can simply choose one from each set. \n",
    "\n",
    "v1, v2, v3 = sym.Matrix([2/5,1/5,1]), sym.Matrix([-1/2,1,0]), sym.Matrix([-2,-1,1])\n",
    "\n",
    "# We can do a qick check \n",
    "\n",
    "print(V*v1 / 7)\n",
    "print(V*v2 / 2)\n",
    "print(V*v3 / 5)"
   ]
  },
  {
   "cell_type": "code",
   "execution_count": 30,
   "metadata": {},
   "outputs": [
    {
     "data": {
      "text/plain": [
       "[(-5,\n",
       "  1,\n",
       "  [Matrix([\n",
       "   [-2],\n",
       "   [-1],\n",
       "   [ 1]])]),\n",
       " (2,\n",
       "  1,\n",
       "  [Matrix([\n",
       "   [-1/2],\n",
       "   [   1],\n",
       "   [   0]])]),\n",
       " (7,\n",
       "  1,\n",
       "  [Matrix([\n",
       "   [2/5],\n",
       "   [1/5],\n",
       "   [  1]])])]"
      ]
     },
     "execution_count": 30,
     "metadata": {},
     "output_type": "execute_result"
    }
   ],
   "source": [
    "'''\n",
    "Step 3: Find the eigenvectors - Method 2\n",
    "\n",
    "As you can see, the first method worked, but it was a little arduous. Turns out sympy has build in \n",
    "functionality to find the eigenvectors for you. I still displayed the above gave the oportunity to \n",
    "show some useful sympy functionality.\n",
    "'''\n",
    "\n",
    "V.eigenvects()\n",
    "\n",
    "# From observation, we note these are the same eigenvectors we arrived at using the first method. This\n",
    "# may not always be the case and that's alright; each eigenvalue generally has more than one corresponding\n",
    "# eigenvector"
   ]
  },
  {
   "cell_type": "code",
   "execution_count": 41,
   "metadata": {},
   "outputs": [
    {
     "name": "stdout",
     "output_type": "stream",
     "text": [
      "1.09544511501033\n",
      "1.11803398874989\n",
      "sqrt(6)\n"
     ]
    },
    {
     "data": {
      "text/plain": [
       "[Matrix([\n",
       " [0.365148371670111],\n",
       " [0.182574185835055],\n",
       " [0.912870929175277]]),\n",
       " Matrix([\n",
       " [-0.447213595499958],\n",
       " [ 0.894427190999916],\n",
       " [                 0]]),\n",
       " Matrix([\n",
       " [-sqrt(6)/3],\n",
       " [-sqrt(6)/6],\n",
       " [ sqrt(6)/6]])]"
      ]
     },
     "execution_count": 41,
     "metadata": {},
     "output_type": "execute_result"
    }
   ],
   "source": [
    "'''Step 4: Normalising our eigenvectors'''\n",
    "\n",
    "# As is general good practice in QM, we will normalise our eigenvectors to form our good basis\n",
    "\n",
    "def norm(vec3d):\n",
    "    '''A function to normalise a 3d vector'''\n",
    "    return sym.sqrt(vec3d[0]**2 + vec3d[1]**2 + vec3d[2]**2)\n",
    "\n",
    "basis_unnormalised = [v1,v2,v3]\n",
    "basis_normalised = []\n",
    "\n",
    "for vec3d in basis_unnormalised:\n",
    "    print(norm(vec3d))\n",
    "    basis_normalised.append(vec3d / norm(vec3d))\n",
    "    \n",
    "basis_normalised\n",
    "\n",
    "# You may have to do some cleaning up by hand to find the sqrts in exact form "
   ]
  }
 ],
 "metadata": {
  "interpreter": {
   "hash": "8ba1142ca1c15fd140372502dea2c7ffc73c9bc8aa56dce576b569b3d1112731"
  },
  "kernelspec": {
   "display_name": "Python 3.9.7 ('physics')",
   "language": "python",
   "name": "python3"
  },
  "language_info": {
   "codemirror_mode": {
    "name": "ipython",
    "version": 3
   },
   "file_extension": ".py",
   "mimetype": "text/x-python",
   "name": "python",
   "nbconvert_exporter": "python",
   "pygments_lexer": "ipython3",
   "version": "3.9.7"
  },
  "orig_nbformat": 4
 },
 "nbformat": 4,
 "nbformat_minor": 2
}
